{
 "cells": [
  {
   "cell_type": "code",
   "execution_count": null,
   "metadata": {},
   "outputs": [],
   "source": [
    "from matplotlib import pyplot as plt\n",
    "import glob, os\n",
    "import numpy as np\n",
    "import graph_processing as gp\n",
    "\n",
    "plt.rcParams[\"figure.figsize\"] = (7,7)\n",
    "\n",
    "%load_ext autoreload\n",
    "%autoreload 2"
   ]
  },
  {
   "cell_type": "code",
   "execution_count": null,
   "metadata": {},
   "outputs": [],
   "source": [
    "data_path=\"./data/rome_graphs\"\n",
    "files = glob.glob(data_path+\"/*.tlpb.gz\")\n",
    "\n",
    "fileID = np.random.randint(0, len(files))\n",
    "file = files[fileID]\n",
    "tlpg = gp.load_graph(file)"
   ]
  },
  {
   "cell_type": "code",
   "execution_count": null,
   "metadata": {},
   "outputs": [],
   "source": [
    "gp.draw_graph(tlpg, node_radiuses=0.2)\n",
    "plt.tight_layout()\n",
    "plt.show()"
   ]
  },
  {
   "cell_type": "code",
   "execution_count": null,
   "metadata": {},
   "outputs": [],
   "source": [
    "# Adjacency matrix\n",
    "am = gp.tlp2AM(tlpg)\n",
    "print(f\"Adjacency matrix:\\n{am}\")\n",
    "\n",
    "# Distance matrix\n",
    "dm = gp.AM2DM(am)\n",
    "print(f\"Distance matrix:\\n{dm}\")"
   ]
  }
 ],
 "metadata": {
  "language_info": {
   "codemirror_mode": {
    "name": "ipython"
   },
   "file_extension": ".py",
   "mimetype": "text/x-python",
   "name": "python",
   "nbconvert_exporter": "python"
  }
 },
 "nbformat": 4,
 "nbformat_minor": 2
}
